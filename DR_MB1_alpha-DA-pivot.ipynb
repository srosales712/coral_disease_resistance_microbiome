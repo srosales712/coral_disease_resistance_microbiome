{
 "cells": [
  {
   "cell_type": "code",
   "execution_count": null,
   "metadata": {
    "button": false,
    "new_sheet": false,
    "run_control": {
     "read_only": false
    }
   },
   "outputs": [],
   "source": [
    "!pwd"
   ]
  },
  {
   "cell_type": "code",
   "execution_count": null,
   "metadata": {
    "button": false,
    "new_sheet": false,
    "run_control": {
     "read_only": false
    }
   },
   "outputs": [],
   "source": [
    "#select sequences that were only classified to the kingdom level\n",
    "filter_fasta.py \\\n",
    "-f /microbiome/2018_micro_resistance_cora/rep_seqs_DRMB1/data/dna-sequences.fasta \\\n",
    "-s /microbiome/2018_micro_resistance_cora/list_kingdom_taxa.txt \\\n",
    "-o /microbiome/2018_micro_resistance_cora/list_kingdom_taxa.fa"
   ]
  },
  {
   "cell_type": "code",
   "execution_count": null,
   "metadata": {
    "button": false,
    "new_sheet": false,
    "run_control": {
     "read_only": false
    }
   },
   "outputs": [],
   "source": [
    "#blast sequences to find mitochondria sequences\n",
    "blastn \\\n",
    "-max_target_seqs 1 \\\n",
    "-num_threads 18 \\\n",
    "-outfmt \"6 qseqid sseqid pident length mismatch gapopen qstart qend sstart send evalue bitscore sskingdoms salltitles\" \\\n",
    "-db nt \\\n",
    "-query list_kingdom_taxa.fa \\\n",
    "-out  blast_list_kingdom_taxa.txt \\\n",
    "-evalue 0.001\n"
   ]
  },
  {
   "cell_type": "code",
   "execution_count": null,
   "metadata": {},
   "outputs": [],
   "source": [
    "#start qiime2\n",
    "!which qiime"
   ]
  },
  {
   "cell_type": "code",
   "execution_count": null,
   "metadata": {
    "button": false,
    "new_sheet": false,
    "run_control": {
     "read_only": false
    }
   },
   "outputs": [],
   "source": [
    "#filter sequences with mitochondria\n",
    "! qiime feature-table filter-features \\\n",
    "--i-table /microbiome/2018_micro_resistance_cora/table-BacArc_DRMB1.qza \\\n",
    "--m-metadata-file /microbiome/2018_micro_resistance_cora/taxaTofilter_mito.txt \\\n",
    "--o-filtered-table  /microbiome/2018_micro_resistance_cora/table-BacArc_DRMB1_noMito.qza \\\n",
    "--p-exclude-ids\n",
    "\n"
   ]
  },
  {
   "cell_type": "code",
   "execution_count": null,
   "metadata": {
    "button": false,
    "new_sheet": false,
    "run_control": {
     "read_only": false
    }
   },
   "outputs": [],
   "source": [
    "# view table after filtration \n",
    "!qiime feature-table summarize \\\n",
    "--i-table /microbiome/2018_micro_resistance_cora/table-BacArc_DRMB1_noMito.qza \\\n",
    "--m-sample-metadata-file /meta/DR_MB1_meta_seqID_run1.txt \\\n",
    "--o-visualization /microbiome/2018_micro_resistance_cora/table-BacArc_DRMB1_noMito.qzv"
   ]
  },
  {
   "cell_type": "code",
   "execution_count": null,
   "metadata": {},
   "outputs": [],
   "source": [
    "#alpha-diversity of both species combined \n",
    "!qiime diversity core-metrics-phylogenetic \\\n",
    "  --i-phylogeny /Users/stephanie.rosales/Documents/ResilianceCorals/analysis/microbiome/2018_micro_resistance_cora/rooted-tree-BacArc_DRMB1.qza \\\n",
    "  --i-table  /Users/stephanie.rosales/Documents/ResilianceCorals/analysis/microbiome/2018_micro_resistance_cora/table-BacArc_DRMB1_noMito.qza \\\n",
    "  --p-sampling-depth 8721 \\\n",
    "  --output-dir  /Users/stephanie.rosales/Documents/ResilianceCorals/analysis/microbiome/core-metrics-DRMB1 \\\n",
    "  --m-metadata-file /Users/stephanie.rosales/Documents/ResilianceCorals/meta/DR_MB1_meta_seqID_run1.txt"
   ]
  },
  {
   "cell_type": "code",
   "execution_count": null,
   "metadata": {
    "button": false,
    "new_sheet": false,
    "run_control": {
     "read_only": false
    }
   },
   "outputs": [],
   "source": [
    "#alpha-diversity significance of both species combined \n",
    "!qiime diversity alpha-group-significance \\\n",
    "  --i-alpha-diversity /microbiome/core-metrics-DRMB1/evenness_vector.qza\\\n",
    "  --m-metadata-file /Users/stephanie.rosales/Documents/ResilianceCorals/meta/DR_MB1_meta_seqID_run1.txt \\\n",
    "  --o-visualization /microbiome/core-metrics-DRMB1/even-pd-group-significance132.qzv\n",
    "    \n",
    "!qiime diversity alpha-group-significance \\\n",
    "  --i-alpha-diversity  /microbiome/core-metrics-DRMB1/shannon_vector.qza\\\n",
    "  --m-metadata-file /Users/stephanie.rosales/Documents/ResilianceCorals/meta/DR_MB1_meta_seqID_run1.txt \\\n",
    "  --o-visualization /microbiome/core-metrics-DRMB1/shanon-pd-group-significance132.qzv"
   ]
  },
  {
   "cell_type": "code",
   "execution_count": null,
   "metadata": {
    "button": false,
    "new_sheet": false,
    "run_control": {
     "read_only": false
    }
   },
   "outputs": [],
   "source": [
    "#subset by species\n",
    "\n",
    "!qiime feature-table filter-samples \\\n",
    "  --i-table /microbiome/2018_micro_resistance_cora/table-BacArc_DRMB1_noMito.qza  \\\n",
    "  --p-no-exclude-ids \\\n",
    "  --p-where \"Host_Species='cervicornis'\" \\\n",
    "  --m-metadata-file /meta/DR_MB1_meta_seqID_run1.txt \\\n",
    "  --o-filtered-table  /microbiome/2018_micro_resistance_cora/table-BacArc_DRMB1AC.qza\n",
    "\n",
    "!qiime feature-table filter-samples \\\n",
    "  --i-table /microbiome/2018_micro_resistance_cora/table-BacArc_DRMB1_noMito.qza\\\n",
    "  --p-no-exclude-ids \\\n",
    "  --p-where \"Host_Species='palmata'\" \\\n",
    "  --m-metadata-file /meta/DR_MB1_meta_seqID_run1.txt \\\n",
    "  --o-filtered-table /microbiome/2018_micro_resistance_cora/table-BacArc_DRMB1AP.qza\n",
    "\n"
   ]
  },
  {
   "cell_type": "code",
   "execution_count": null,
   "metadata": {
    "button": false,
    "new_sheet": false,
    "run_control": {
     "read_only": false
    }
   },
   "outputs": [],
   "source": [
    "#rareify \n",
    "!qiime diversity core-metrics-phylogenetic \\\n",
    "  --i-phylogeny /microbiome/2018_micro_resistance_cora/rooted-tree-BacArc_DRMB1.qza \\\n",
    "  --i-table /microbiome/2018_micro_resistance_cora/table-BacArc_DRMB1AC.qza \\\n",
    "  --p-sampling-depth 18402 \\\n",
    "  --output-dir  /microbiome/core-metrics-DRMB1_AC \\\n",
    "  --m-metadata-file /meta/DR_MB1_meta_seqID_run1.txt\n",
    "\n",
    "\n",
    "!qiime diversity core-metrics-phylogenetic \\\n",
    "  --i-phylogeny /microbiome/2018_micro_resistance_cora/rooted-tree-BacArc_DRMB1.qza \\\n",
    "  --i-table /microbiome/2018_micro_resistance_cora/table-BacArc_DRMB1AP.qza \\\n",
    "  --p-sampling-depth 8721 \\\n",
    "  --output-dir  /microbiome/core-metrics-DRMB1_AP \\\n",
    "  --m-metadata-file /meta/DR_MB1_meta_seqID_run1.txt\n"
   ]
  },
  {
   "cell_type": "code",
   "execution_count": null,
   "metadata": {
    "button": false,
    "new_sheet": false,
    "run_control": {
     "read_only": false
    }
   },
   "outputs": [],
   "source": [
    "#A.cervicornis check for alpha-diversity significance \n",
    "\n",
    "!qiime diversity alpha-group-significance \\\n",
    "  --i-alpha-diversity /microbiome/core-metrics-DRMB1_AC/evenness_vector.qza\\\n",
    "  --m-metadata-file /meta/DR_MB1_meta_seqID_run1.txt \\\n",
    "  --o-visualization /microbiome/core-metrics-DRMB1_AC/even-pd-group-significance132.qzv\n",
    "    \n",
    "!qiime diversity alpha-group-significance \\\n",
    "  --i-alpha-diversity  /microbiome/core-metrics-DRMB1_AC/shannon_vector.qza\\\n",
    "  --m-metadata-file /meta/DR_MB1_meta_seqID_run1.txt \\\n",
    "  --o-visualization /microbiome/core-metrics-DRMB1_AC/shanon-pd-group-significance132.qzv"
   ]
  },
  {
   "cell_type": "code",
   "execution_count": null,
   "metadata": {
    "button": false,
    "new_sheet": false,
    "run_control": {
     "read_only": false
    }
   },
   "outputs": [],
   "source": [
    "#A.palmata check for alpha-diversity significance \n",
    "\n",
    "!qiime diversity alpha-group-significance \\\n",
    "  --i-alpha-diversity /microbiome/core-metrics-DRMB1_AP/evenness_vector.qza\\\n",
    "  --m-metadata-file /Users/stephanie.rosales/Documents/ResilianceCorals/meta/DR_MB1_meta_seqID_run1.txt \\\n",
    "  --o-visualization /microbiome/core-metrics-DRMB1_AP/even-pd-group-significance132.qzv\n",
    "    \n",
    "!qiime diversity alpha-group-significance \\\n",
    "  --i-alpha-diversity  /microbiome/core-metrics-DRMB1_AP/shannon_vector.qza\\\n",
    "  --m-metadata-file /Users/stephanie.rosales/Documents/ResilianceCorals/meta/DR_MB1_meta_seqID_run1.txt \\\n",
    "  --o-visualization /microbiome/core-metrics-DRMB1_AP/shanon-pd-group-significance132.qzv"
   ]
  },
  {
   "cell_type": "code",
   "execution_count": null,
   "metadata": {
    "button": false,
    "new_sheet": false,
    "run_control": {
     "read_only": false
    }
   },
   "outputs": [],
   "source": [
    "#remove low abundant taxa\n",
    "!qiime feature-table filter-features  --i-table /microbiome/2018_micro_resistance_cora/table-BacArc_DRMB1AC.qza --p-min-samples 4 --o-filtered-table /microbiome/2018_micro_resistance_cora/table-Frequen-fil-BacArc_DRMB1AC.qza  \n",
    "\n",
    "!qiime feature-table filter-features  \\\n",
    "  --i-table /microbiome/2018_micro_resistance_cora/table-BacArc_DRMB1AP.qza \\\n",
    "  --p-min-samples 4  \\\n",
    "  --o-filtered-table /microbiome/2018_micro_resistance_cora/table-Frequen-fil-BacArc_DRMB1AP.qza\n"
   ]
  },
  {
   "cell_type": "code",
   "execution_count": null,
   "metadata": {
    "button": false,
    "new_sheet": false,
    "run_control": {
     "read_only": false
    }
   },
   "outputs": [],
   "source": [
    "#export filtered table \n",
    "!qiime tools export /microbiome/2018_micro_resistance_cora/table-Frequen-fil-BacArc_DRMB1AC.qza --output-dir /microbiome/export_AC_DRMB\n",
    "!qiime tools export /microbiome/2018_micro_resistance_cora/table-Frequen-fil-BacArc_DRMB1AP.qza --output-dir /microbiome/export_AP_DRMB\n",
    "!qiime tools export /microbiome/2018_micro_resistance_cora/table-BacArc_DRMB1_noMito.qza --output-dir /microbiome/exported_DRMB1/\n"
   ]
  },
  {
   "cell_type": "code",
   "execution_count": null,
   "metadata": {
    "button": false,
    "new_sheet": false,
    "run_control": {
     "read_only": false
    }
   },
   "outputs": [],
   "source": [
    "#change biom format to .txt\n",
    "!biom  convert \\\n",
    "--input-fp /microbiome/export_AC_DRMB/feature-table.biom \\\n",
    "--to-tsv \\\n",
    "-o /microbiome/export_AC_DRMB/table-fil-BacArc_DRMB1AC.txt\n",
    "\n",
    "\n",
    "!biom  convert \\\n",
    "--input-fp /microbiome/export_AP_DRMB/feature-table.biom \\\n",
    "--to-tsv \\\n",
    "-o /microbiome/export_AP_DRMB/table-fil-BacArc_DRMB1AP.txt\n",
    "\n",
    "!biom  convert \\\n",
    "--input-fp /microbiome/exported_DRMB1/feature-table.biom \\\n",
    "--to-tsv \\\n",
    "-o /microbiome/exported_DRMB1/feature-tableBacArc_DRMB1_fill.txt"
   ]
  },
  {
   "cell_type": "code",
   "execution_count": null,
   "metadata": {
    "button": false,
    "new_sheet": false,
    "run_control": {
     "read_only": false
    }
   },
   "outputs": [],
   "source": [
    "#view filtered tables\n",
    "!qiime feature-table summarize \\\n",
    "--i-table /microbiome/2018_micro_resistance_cora/table-Frequen-fil-BacArc_DRMB1AC.qza \\\n",
    "--m-sample-metadata-file /meta/DR_MB1_meta_seqID_run1.txt \\\n",
    "--o-visualization /Users/stephanie.rosales/Documents/ResilianceCorals/analysis/microbiome/2018_micro_resistance_cora/table-Frequen-fil-BacArc_DRMB1AC.qzv\n",
    "\n",
    "!qiime feature-table summarize \\\n",
    "--i-table /microbiome/2018_micro_resistance_cora/table-Frequen-fil-BacArc_DRMB1AP.qza \\\n",
    "--m-sample-metadata-file /Users/stephanie.rosales/Documents/ResilianceCorals/meta/DR_MB1_meta_seqID_run1.txt \\\n",
    "--o-visualization /microbiome/2018_micro_resistance_cora/table-Frequen-fil-BacArc_DRMB1AP.qzv\n"
   ]
  },
  {
   "cell_type": "code",
   "execution_count": null,
   "metadata": {
    "button": false,
    "new_sheet": false,
    "run_control": {
     "read_only": false
    }
   },
   "outputs": [],
   "source": [
    "!qiime composition add-pseudocount \\\n",
    "--i-table /microbiome/2018_micro_resistance_cora/table-Frequen-fil-BacArc_DRMB1AC.qza \\\n",
    "--o-composition-table /microbiome/2018_micro_resistance_cora/comp-Frequen-fil-BacArc_DRMB1AC.qza \\\n",
    "--p-pseudocount 1\n",
    "#run ANCOM for AC outcome\n",
    "!qiime composition ancom \\\n",
    "  --i-table /microbiome/2018_micro_resistance_cora/comp-Frequen-fil-BacArc_DRMB1AC.qza \\\n",
    "  --m-metadata-file /Users/stephanie.rosales/Documents/ResilianceCorals/meta/DR_MB1_meta_seqID_run1.txt \\\n",
    "  --m-metadata-column Outcome \\\n",
    "  --o-visualization /microbiome/2018_micro_resistance_cora/ancom-Frequen-fil-BacArc_DRMB1AC.qzv \\\n",
    "\n",
    "#run ANCOM for AC genotype\n",
    "!qiime composition ancom \\\n",
    "  --i-table /microbiome/2018_micro_resistance_cora/comp-Frequen-fil-BacArc_DRMB1AC.qza \\\n",
    "  --m-metadata-file /Users/stephanie.rosales/Documents/ResilianceCorals/meta/DR_MB1_meta_seqID_run1.txt \\\n",
    "  --m-metadata-column Genotype \\\n",
    "  --o-visualization /microbiome/2018_micro_resistance_cora/ancom-Geno-fil-BacArc_DRMB1AC.qzv \\\n"
   ]
  },
  {
   "cell_type": "code",
   "execution_count": null,
   "metadata": {
    "button": false,
    "new_sheet": false,
    "run_control": {
     "read_only": false
    }
   },
   "outputs": [],
   "source": [
    "!qiime composition add-pseudocount \\\n",
    "--i-table /microbiome/2018_micro_resistance_cora/table-Frequen-fil-BacArc_DRMB1AP.qza \\\n",
    "--o-composition-table /microbiome/2018_micro_resistance_cora/comp-Frequen-fil-BacArc_DRMB1AP.qza \\\n",
    "--p-pseudocount 1\n",
    "#run ANCOM for AP outcome\n",
    "!qiime composition ancom \\\n",
    "  --i-table /microbiome/2018_micro_resistance_cora/comp-Frequen-fil-BacArc_DRMB1AP.qza \\\n",
    "  --m-metadata-file /meta/DR_MB1_meta_seqID_run1.txt \\\n",
    "  --m-metadata-column Outcome \\\n",
    "  --o-visualization /microbiome/2018_micro_resistance_cora/ancom-Frequen-fil-BacArc_DRMB1AP.qzv \\\n",
    "\n",
    "!qiime composition ancom \\\n",
    "  --i-table /microbiome/2018_micro_resistance_cora/comp-Frequen-fil-BacArc_DRMB1AP.qza \\\n",
    "  --m-metadata-file /meta/DR_MB1_meta_seqID_run1.txt \\\n",
    "  --m-metadata-column Genotype \\\n",
    "  --o-visualization /microbiome/2018_micro_resistance_cora/ancom-Geno-fil-BacArc_DRMB1AP.qzv \\\n",
    "\n"
   ]
  },
  {
   "cell_type": "code",
   "execution_count": null,
   "metadata": {
    "button": false,
    "new_sheet": false,
    "run_control": {
     "read_only": false
    }
   },
   "outputs": [],
   "source": [
    "import pandas as pd"
   ]
  },
  {
   "cell_type": "code",
   "execution_count": null,
   "metadata": {
    "button": false,
    "new_sheet": false,
    "run_control": {
     "read_only": false
    }
   },
   "outputs": [],
   "source": [
    "#for table 1\n",
    "meta = pd.read_table(\"/meta/DR_MB1_meta_seqID_run1.txt\", \n",
    "                         sep =\"\\t\")\n",
    "meta1=meta[['Host_Species', 'Genotype', 'Outcome', \"Treatment\", 'Nursery', 'Genotype_nursery']]\n",
    "meta1.head()"
   ]
  },
  {
   "cell_type": "code",
   "execution_count": null,
   "metadata": {
    "button": false,
    "new_sheet": false,
    "run_control": {
     "read_only": false
    }
   },
   "outputs": [],
   "source": [
    "#Create table 1\n",
    "table1= pd.pivot_table(meta1, index=['Host_Species', 'Genotype','Genotype_nursery', 'Nursery'],\n",
    "               columns= \"Outcome\", aggfunc=\"count\",  margins=True)\n",
    "table1"
   ]
  },
  {
   "cell_type": "code",
   "execution_count": null,
   "metadata": {
    "button": false,
    "new_sheet": false,
    "run_control": {
     "read_only": false
    }
   },
   "outputs": [],
   "source": [
    "table1.to_csv(\"/microbiome/Figures/table1.csv\")\n",
    "\n"
   ]
  }
 ],
 "metadata": {
  "kernelspec": {
   "display_name": "Python 3",
   "language": "python",
   "name": "python3"
  },
  "language_info": {
   "codemirror_mode": {
    "name": "ipython",
    "version": 3
   },
   "file_extension": ".py",
   "mimetype": "text/x-python",
   "name": "python",
   "nbconvert_exporter": "python",
   "pygments_lexer": "ipython3",
   "version": "3.5.5"
  }
 },
 "nbformat": 4,
 "nbformat_minor": 2
}
