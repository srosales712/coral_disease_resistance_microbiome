{
 "cells": [
  {
   "cell_type": "code",
   "execution_count": null,
   "metadata": {
    "button": false,
    "new_sheet": false,
    "run_control": {
     "read_only": false
    }
   },
   "outputs": [],
   "source": [
    "!which qiime"
   ]
  },
  {
   "cell_type": "code",
   "execution_count": null,
   "metadata": {
    "button": false,
    "new_sheet": false,
    "run_control": {
     "read_only": false
    }
   },
   "outputs": [],
   "source": [
    "#import data to qiime2\n",
    "\n",
    "!qiime tools import \\\n",
    "--type 'SampleData[PairedEndSequencesWithQuality]' \\\n",
    "--input-path for_qiime_uploadDRMB1.csv \\\n",
    "--output-path paired-end-demux.qza \\\n",
    "--source-format PairedEndFastqManifestPhred33"
   ]
  },
  {
   "cell_type": "code",
   "execution_count": null,
   "metadata": {
    "button": false,
    "new_sheet": false,
    "run_control": {
     "read_only": false
    }
   },
   "outputs": [],
   "source": [
    "!ls"
   ]
  },
  {
   "cell_type": "code",
   "execution_count": null,
   "metadata": {
    "button": false,
    "new_sheet": false,
    "run_control": {
     "read_only": false
    }
   },
   "outputs": [],
   "source": [
    "#demultiplex data\n",
    "!qiime demux summarize \\\n",
    "--verbose \\\n",
    "--i-data paired-end-demux.qza \\\n",
    "--o-visualization paired-end-demux.qzv"
   ]
  },
  {
   "cell_type": "code",
   "execution_count": null,
   "metadata": {
    "button": false,
    "new_sheet": false,
    "run_control": {
     "read_only": false
    }
   },
   "outputs": [],
   "source": [
    "#trim PCR primers\n",
    "!qiime cutadapt trim-paired \\\n",
    "--i-demultiplexed-sequences paired-end-demux.qza \\\n",
    "--p-cores 16 \\\n",
    "--p-front-f GTGYCAGCMGCCGCGGTAA \\\n",
    "--p-front-r GGACTACNVGGGTWTCTAAT \\\n",
    "--o-trimmed-sequences demux_trim.qza \\\n",
    "--verbose\n"
   ]
  },
  {
   "cell_type": "code",
   "execution_count": null,
   "metadata": {
    "button": false,
    "new_sheet": false,
    "run_control": {
     "read_only": false
    }
   },
   "outputs": [],
   "source": [
    "#summarize data\n",
    "!qiime demux summarize \\\n",
    "--i-data demux_trim.qza \\\n",
    "--o-visualization demux_trim.qzv"
   ]
  },
  {
   "cell_type": "code",
   "execution_count": null,
   "metadata": {
    "button": false,
    "new_sheet": false,
    "run_control": {
     "read_only": false
    }
   },
   "outputs": [],
   "source": [
    "#run dada2 for ASV classification\n",
    "!qiime dada2 denoise-paired \\\n",
    "--i-demultiplexed-seqs demux_trim.qza \\\n",
    "--p-trim-left-f 10 \\\n",
    "--p-trim-left-r 10 \\\n",
    "--p-trunc-len-f 200 \\\n",
    "--p-trunc-len-r 110 \\\n",
    "--p-n-threads 16  \\\n",
    "--o-representative-sequences rep_seqs_DRMB1.qza \\\n",
    "--o-table table_DRMB1.qza \\\n",
    "--o-denoising-stats dada_stats_DRMB1.qza"
   ]
  },
  {
   "cell_type": "code",
   "execution_count": null,
   "metadata": {
    "button": false,
    "new_sheet": false,
    "run_control": {
     "read_only": false
    }
   },
   "outputs": [],
   "source": [
    "%time!qiime feature-table summarize \\\n",
    "  --i-table table_DRMB1.qza \\\n",
    "  --o-visualization table_DRMB1.qzv\\\n",
    "  --m-sample-metadata-file DR_MB1_meta_seqID.txt\n",
    "\n",
    "%time!qiime feature-table tabulate-seqs \\\n",
    "  --i-data rep_seqs_DRMB1.qza \\\n",
    "  --o-visualization rep_seqs_DRMB1.qzv"
   ]
  },
  {
   "cell_type": "code",
   "execution_count": null,
   "metadata": {
    "button": false,
    "new_sheet": false,
    "run_control": {
     "read_only": false
    }
   },
   "outputs": [],
   "source": [
    "#Assign taxonomy\n",
    "%time!qiime feature-classifier classify-sklearn \\\n",
    "  --i-classifier silva-132-99-515-806-nb-classifier.qza\\\n",
    "  --i-reads rep_seqs_DRMB1.qza \\\n",
    "  --o-classification taxonomy__DRMB1.qza"
   ]
  },
  {
   "cell_type": "code",
   "execution_count": null,
   "metadata": {
    "button": false,
    "new_sheet": false,
    "run_control": {
     "read_only": false
    }
   },
   "outputs": [],
   "source": [
    "#Keep bacteria and archaea in ASV table\n",
    "%time!qiime taxa filter-table \\\n",
    "  --i-table table_DRMB1.qza \\\n",
    "  --i-taxonomy taxonomy__DRMB1.qza \\\n",
    "  --p-exclude mitochondria,chloroplast \\\n",
    "  --p-include D_0__Bacteria,D_0__Archaea \\\n",
    "  --o-filtered-table table-BacArc_DRMB1.qza"
   ]
  },
  {
   "cell_type": "code",
   "execution_count": null,
   "metadata": {
    "button": false,
    "new_sheet": false,
    "run_control": {
     "read_only": false
    }
   },
   "outputs": [],
   "source": [
    "#Keep bacteria and archaea sequences\n",
    "%time!qiime taxa filter-seqs \\\n",
    "  --i-sequences  rep_seqs_DRMB1.qza \\\n",
    "  --i-taxonomy taxonomy__DRMB1.qza \\\n",
    "  --p-exclude mitochondria,chloroplast \\\n",
    "  --p-include D_0__Bacteria,D_0__Archaea \\\n",
    "  --o-filtered-sequences rep_seqs_BacArc_DRMB1.qza"
   ]
  },
  {
   "cell_type": "code",
   "execution_count": null,
   "metadata": {
    "button": false,
    "new_sheet": false,
    "run_control": {
     "read_only": false
    }
   },
   "outputs": [],
   "source": [
    "!qiime taxa barplot \\\n",
    "  --i-table table-BacArc_DRMB1.qza \\\n",
    "  --i-taxonomy  taxonomy__DRMB1.qza \\\n",
    "  --m-metadata-file  DR_MB1_meta_seqID.txt\\\n",
    "  --o-visualization taxa-bar-plotsBacArc_DRMB1.qzv"
   ]
  },
  {
   "cell_type": "code",
   "execution_count": null,
   "metadata": {
    "button": false,
    "new_sheet": false,
    "run_control": {
     "read_only": false
    }
   },
   "outputs": [],
   "source": [
    "#align sequences for tree building \n",
    "%time!qiime alignment mafft \\\n",
    "  --i-sequences  rep_seqs_BacArc_DRMB1.qza \\\n",
    "  --o-alignment aligned-rep_seqs_BacArc_DRMB1.qza"
   ]
  },
  {
   "cell_type": "code",
   "execution_count": null,
   "metadata": {
    "button": false,
    "new_sheet": false,
    "run_control": {
     "read_only": false
    }
   },
   "outputs": [],
   "source": [
    "#mask sequences from alignment \n",
    "!qiime alignment mask \\\n",
    "  --i-alignment aligned-rep_seqs_BacArc_DRMB1.qza \\\n",
    "  --o-masked-alignment aligned-rep_seqsMasked_BacArc_DRMB1.qza"
   ]
  },
  {
   "cell_type": "code",
   "execution_count": null,
   "metadata": {
    "button": false,
    "new_sheet": false,
    "run_control": {
     "read_only": false
    }
   },
   "outputs": [],
   "source": [
    "#build phylogenetic tree \n",
    "!qiime phylogeny fasttree \\\n",
    "  --i-alignment aligned-rep_seqsMasked_BacArc_DRMB1.qza \\\n",
    "  --o-tree unrooted-tree-BacArc_DRMB1.qza"
   ]
  },
  {
   "cell_type": "code",
   "execution_count": null,
   "metadata": {
    "button": false,
    "new_sheet": false,
    "run_control": {
     "read_only": false
    }
   },
   "outputs": [],
   "source": [
    "#root tree\n",
    "!qiime phylogeny midpoint-root \\\n",
    "  --i-tree unrooted-tree-BacArc_DRMB1.qza \\\n",
    "  --o-rooted-tree rooted-tree-BacArc_DRMB1.qza"
   ]
  },
  {
   "cell_type": "code",
   "execution_count": null,
   "metadata": {
    "button": false,
    "new_sheet": false,
    "run_control": {
     "read_only": false
    }
   },
   "outputs": [],
   "source": [
    "\n",
    "%time!qiime feature-table summarize \\\n",
    "  --i-table table-BacArc_DRMB1.qza \\\n",
    "  --o-visualization table-BacArc_DRMB1.qzv\\\n",
    "  --m-sample-metadata-file DR_MB1_meta_seqID.txt\n",
    "\n",
    "%time!qiime feature-table tabulate-seqs \\\n",
    "  --i-data rep_seqs_BacArc_DRMB1.qza \\\n",
    "  --o-visualization rep_seqs_BacArc_DRMB1.qzv"
   ]
  },
  {
   "cell_type": "code",
   "execution_count": null,
   "metadata": {
    "button": false,
    "new_sheet": false,
    "run_control": {
     "read_only": false
    }
   },
   "outputs": [],
   "source": [
    "#export data from qiime2\n",
    "!qiime tools export \\\n",
    "    table-BacArc_DRMB1.qza \\\n",
    "  --output-dir exported_DRMB1/\n",
    "\n",
    "!qiime tools export \\\n",
    " rooted-tree-BacArc_DRMB1.qza \\\n",
    " --output-dir exported_DRMB1/\n",
    "\n",
    "!qiime tools export \\\n",
    "  taxonomy__DRMB1.qza \\\n",
    "  --output-dir exported_DRMB1/\n"
   ]
  },
  {
   "cell_type": "code",
   "execution_count": null,
   "metadata": {
    "button": false,
    "new_sheet": false,
    "run_control": {
     "read_only": false
    }
   },
   "outputs": [],
   "source": [
    "#Remove mito and chloroplast from taxonomy, remove header and sort to\n",
    "#relabel on R\n",
    "!wc -l taxonomy.tsv\n",
    "\n",
    "!grep 'Bacteria\\|Archaea' exported_DRMB1/taxonomy.tsv | wc -l \n",
    "!grep 'Bacteria\\|Archaea' exported_DRMB1/taxonomy.tsv | head\n",
    "\n",
    "!grep  'Bacteria\\|Archaea' exported_DRMB1/taxonomy.tsv | \\\n",
    "tail -n +2 |  \\\n",
    "sort -k1,1 | wc -l\n",
    "\n",
    "!grep  'Bacteria\\|Archaea' exported_DRMB1/taxonomy.tsv | \\\n",
    "tail -n +2 |  \\\n",
    "sort -k1,1   > exported_DRMB1/tax-no-BacArc_DRMB1.txt\n",
    "\n",
    "\n"
   ]
  },
  {
   "cell_type": "code",
   "execution_count": null,
   "metadata": {
    "button": false,
    "new_sheet": false,
    "run_control": {
     "read_only": false
    }
   },
   "outputs": [],
   "source": [
    "!biom  convert \\\n",
    "-i /exported_DRMB1/feature-table.biom \\\n",
    "--to-tsv \\\n",
    "-o /space/home/rosales/projects/2018_micro_resistance_cora/exported_DRMB1/feature-tableBacArc_DRMB1.txt\n",
    "\n",
    "!wc -l /space/home/rosales/projects/2018_micro_resistance_cora/exported_DRMB1/feature-tableBacArc_DRMB1.txt"
   ]
  },
  {
   "cell_type": "code",
   "execution_count": null,
   "metadata": {
    "button": false,
    "new_sheet": false,
    "run_control": {
     "read_only": false
    }
   },
   "outputs": [],
   "source": [
    "mv /space/home/rosales/projects/2018_micro_resistance_cora/exported_DRMB1/tree.nwk /space/home/rosales/projects/2018_micro_resistance_cora/exported_DRMB1/tree_BacArc_DRMB1.nwk"
   ]
  }
 ],
 "metadata": {
  "kernelspec": {
   "display_name": "Python 3",
   "language": "python",
   "name": "python3"
  },
  "language_info": {
   "codemirror_mode": {
    "name": "ipython",
    "version": 3
   },
   "file_extension": ".py",
   "mimetype": "text/x-python",
   "name": "python",
   "nbconvert_exporter": "python",
   "pygments_lexer": "ipython3",
   "version": "3.7.0"
  }
 },
 "nbformat": 4,
 "nbformat_minor": 2
}
