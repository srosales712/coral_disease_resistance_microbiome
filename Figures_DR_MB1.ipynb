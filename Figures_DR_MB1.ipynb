{
 "cells": [
  {
   "cell_type": "code",
   "execution_count": null,
   "metadata": {
    "button": false,
    "new_sheet": false,
    "run_control": {
     "read_only": false
    }
   },
   "outputs": [],
   "source": [
    "library(\"phyloseq\"); packageVersion(\"phyloseq\")\n",
    "library(\"ggplot2\")\n",
    "library(\"ape\")\n",
    "library(\"vegan\"); packageVersion(\"vegan\")\n",
    "library(\"dplyr\")\n",
    "library(\"plyr\"); packageVersion(\"plyr\")\n",
    "library(\"microbiome\") \n",
    "suppressMessages(library(cowplot)); packageVersion(\"cowplot\")\n",
    "library(grid)\n",
    "library(gridExtra)\n",
    "library(ggpubr)\n"
   ]
  },
  {
   "cell_type": "code",
   "execution_count": null,
   "metadata": {
    "button": false,
    "new_sheet": false,
    "run_control": {
     "read_only": false
    }
   },
   "outputs": [],
   "source": [
    "#load files, OTU table, metadata, taxonomy, and tree file\n",
    "#removed \"#\"and removes space from OTU ID, and removed first row on excel\n",
    "SV_C <- t(read.table(\"microbiome/export_AC_DRMB/table-fil-BacArc_DRMB1AC.txt\", \n",
    "                   row.names = 1, header = TRUE))\n",
    "head(SV_C)\n",
    "dim(SV_C)\n",
    "\n",
    "SV_P <- t(read.table(\"microbiome/export_AP_DRMB//table-fil-BacArc_DRMB1AP.txt\", \n",
    "                   row.names = 1, header = TRUE))\n",
    "head(SV_P)\n",
    "dim(SV_P)\n",
    "\n",
    "#removed \"#\" from first row\n",
    "map<- read.table(\"DR_MB1_meta_seqID_run1.txt\", \n",
    "                 row.names = 1, header = TRUE)\n",
    "#dim(map)\n",
    "#head(map)\n",
    "\n",
    "\n",
    "#ead(map)\n",
    "## to import taxonomy I had to convert ; into tabs and remove last columns\n",
    "tax <-as.matrix(read.table(\"exported_DRMB1/tax-no-BacArc_DRMB1_fill.txt\",  \n",
    "                           row.names = 1, header = FALSE, sep = \"\\t\"))\n",
    "\n",
    "colnames(tax) <- c (\"Kingdom\", \"Phylum\", \"Class\", \"Order\", \"Family\", \"Genus\", \"Species\")\n",
    "tax[tax==\"\"] <- NA\n",
    "head(tax)\n",
    "dim(tax)\n",
    "\n",
    "#head(tax)\n",
    "tree_file <-read_tree(\"exported_DRMB1/tree_BacArc_DRMB1.nwk\")\n",
    "#head(tree_file)\n"
   ]
  },
  {
   "cell_type": "code",
   "execution_count": null,
   "metadata": {
    "button": false,
    "new_sheet": false,
    "run_control": {
     "read_only": false
    }
   },
   "outputs": [],
   "source": [
    "#import palmata data into phyloseq object\n",
    "ps_pal = phyloseq(otu_table(SV_P, taxa_are_rows=FALSE), \n",
    "               sample_data(map), \n",
    "               tax_table(tax))\n",
    "ps_pal\n",
    "\n",
    "#import cervicornis data into phyloseq object\n",
    "ps_cer = phyloseq(otu_table(SV_C, taxa_are_rows=FALSE), \n",
    "               sample_data(map), \n",
    "               tax_table(tax))\n",
    "ps_cer\n",
    "\n",
    "#Combine both species into one phyloseq object\n",
    "ps = merge_phyloseq(ps_cer, ps_pal)\n",
    "ps"
   ]
  },
  {
   "cell_type": "code",
   "execution_count": null,
   "metadata": {
    "button": false,
    "new_sheet": false,
    "run_control": {
     "read_only": false
    }
   },
   "outputs": [],
   "source": [
    "#tranform counts to CLR\n",
    "#for both species\n",
    "ps_clr <- microbiome::transform(ps, 'clr')\n",
    "ps_clr \n",
    "#for cervicornis\n",
    "ps_cer_clr <- microbiome::transform(ps_cer, 'clr')\n",
    "ps_cer_clr\n",
    "#for palmata\n",
    "ps_pal_clr <- microbiome::transform(ps_pal, 'clr')\n",
    "ps_pal_clr"
   ]
  },
  {
   "cell_type": "code",
   "execution_count": null,
   "metadata": {
    "button": false,
    "new_sheet": false,
    "run_control": {
     "read_only": false
    }
   },
   "outputs": [],
   "source": [
    "#tranform counts to relative abundance\n",
    "#for cervicornis\n",
    "psr_cer= transform_sample_counts(ps_cer, function(x) x / sum(x) )\n",
    "psr_cer\n",
    "#for palmata                               \n",
    "psr_pal= transform_sample_counts(ps_pal, function(x) x / sum(x) )\n",
    "psr_pal"
   ]
  },
  {
   "cell_type": "code",
   "execution_count": null,
   "metadata": {
    "button": false,
    "new_sheet": false,
    "run_control": {
     "read_only": false
    }
   },
   "outputs": [],
   "source": [
    "#ordinate all\n",
    "psr_clr.ord <- ordinate(ps_clr, \"RDA\", \"euclidean\")\n",
    "\n",
    "#plot ordination\n",
    "PCA_pal_cer = plot_ordination(ps_clr, psr_clr.ord, label= \"Genotype\",\n",
    "                              type=\"samples\", color=\"Host_Species\",\n",
    "                              shape=\"Treatment\", axes = c(1, \n",
    "    2)) +\n",
    "scale_colour_manual(values = c(\"#56B4E9\", \"#E69F00\")) +\n",
    "theme_classic() +\n",
    "theme(legend.text =element_text(size=5)) +\n",
    "theme(legend.title = element_text(size=6)) +\n",
    "theme(axis.title.x = element_text(size = 7)) +\n",
    "theme(axis.title.y = element_text(size = 7)) +\n",
    "theme(axis.text.x = element_text(size =5)) +\n",
    "theme(axis.text.y = element_text(size =5)) \n",
    "\n",
    "\n",
    "PCA_pal_cer"
   ]
  },
  {
   "cell_type": "code",
   "execution_count": null,
   "metadata": {
    "button": false,
    "new_sheet": false,
    "run_control": {
     "read_only": false
    }
   },
   "outputs": [],
   "source": [
    "#load files, OTU table, metadata, taxonomy, and tree file\n",
    "#removed \"#\"and removes space from OTU ID, and removed first row on excel\n",
    "SV <- t(read.table(\"/microbiome/exported_DRMB1/feature-tableBacArc_DRMB1_fill.txt\", row.names = 1, header = TRUE))\n",
    "#head(SV)\n",
    "#removed \"#\" from first row\n",
    "map<- read.table(\"DR_MB1_meta_seqID_run1.txt\", \n",
    "                 row.names = 1, header = TRUE)\n",
    "#head(map)\n",
    "## to import taxonomy I had to convert ; into tabs and remove last columns\n",
    "tax <-as.matrix(read.table(\"microbiome/exported_DRMB1/tax-no-BacArc_DRMB1.txt\",  \n",
    "                           row.names = 1, header = FALSE, sep = \"\\t\"))\n",
    "#head(tax)\n",
    "tree_file <-read_tree(\"microbiome/exported_DRMB1/tree_BacArc_DRMB1.nwk\")\n",
    "#head(tree_file)\n",
    "\n",
    "colnames(tax) <- c (\"Kingdom\", \"Phylum\", \"Class\", \"Order\", \"Family\", \"Genus\", \"Species\")\n",
    "tax[tax==\"\"] <- NA\n",
    "#head(tax)\n",
    "dim(tax)"
   ]
  },
  {
   "cell_type": "code",
   "execution_count": null,
   "metadata": {},
   "outputs": [],
   "source": [
    "#import non-filtered ASV table into phyloseq\n",
    "ps_all = phyloseq(otu_table(SV, taxa_are_rows=FALSE), \n",
    "               sample_data(map), \n",
    "               tax_table(tax))\n",
    "ps_all\n"
   ]
  },
  {
   "cell_type": "code",
   "execution_count": null,
   "metadata": {},
   "outputs": [],
   "source": [
    "#tranform into relative abundance\n",
    "psr_all= transform(ps_all, \"compositional\")"
   ]
  },
  {
   "cell_type": "code",
   "execution_count": null,
   "metadata": {
    "button": false,
    "new_sheet": false,
    "run_control": {
     "read_only": false
    }
   },
   "outputs": [],
   "source": [
    "#make into df to use on ggplot\n",
    "ps_sum_genus_all <- psr_all %>%\n",
    "  tax_glom(taxrank = \"Genus\") %>%                     # agglomerate at genus level\n",
    "  psmelt()    "
   ]
  },
  {
   "cell_type": "code",
   "execution_count": null,
   "metadata": {},
   "outputs": [],
   "source": [
    "map$Host_Species"
   ]
  },
  {
   "cell_type": "code",
   "execution_count": null,
   "metadata": {},
   "outputs": [],
   "source": [
    "#Make bar graphs with negative control\n",
    "bar_neg= ggplot(subset(ps_sum_genus_all, Abundance > 0.05), \n",
    "       aes(x = Host_Species, y=Abundance)) + \n",
    "geom_bar(stat=\"identity\", aes(fill = Genus)) +\n",
    "scale_fill_manual(values=c(\"#56B4E9\",\"#CBD588\",\"#5F7FC7\", \"orange\",\"#DA5724\",\"#CD9BCD\",\n",
    "                           \"gray80\", \"#AD6F3B\", \"#673770\",\"#D14285\", \"#652926\",\"#8569D5\", \n",
    "                           \"#5E738F\",\"#D1A33D\", \"#8A7C64\",\"lightsalmon\",\"aquamarine4\",\n",
    "                           \"lightblue4\", \"lightpink\", \"ivory4\",\"royalblue4\", \"darkorchid\", \n",
    "                           \"palevioletred1\", \"#56B4E9\",\"#CBD588\",\"yellow2\",\"#5F7FC7\", \"orange\",\"#DA5724\",\n",
    "                           \"#CD9BCD\", \"gray80\",\n",
    "                           \"#AD6F3B\", \"#673770\",\"#D14285\", \"#652926\",\"#8569D5\", \"#5E738F\",\n",
    "                          \"#56B4E9\",\"#CBD588\",\"#5F7FC7\", \"orange\",\"#DA5724\",\"#CD9BCD\")) +\n",
    "guides(fill = guide_legend(keywidth = 0.3, , keyheight =.70, ncol=1)) +\n",
    "theme_classic() +\n",
    "theme(legend.text =element_text(size=5)) +\n",
    "theme(legend.title =element_text(size=6)) +\n",
    "theme(axis.title.x = element_text(size = 8)) +\n",
    "theme(axis.title.y = element_text(size = 8)) +\n",
    "theme(axis.text.x = element_text(size =6)) +\n",
    "theme(axis.text.y = element_text(size =6)) +\n",
    "theme(strip.text.x = element_text(size =5)) +\n",
    " ylab(\"Relative abundance\")\n",
    "bar_neg\n",
    "\n",
    "bar_neg_fill= ggplot(subset(ps_sum_genus_all, Abundance > 0.05), \n",
    "       aes(x = Host_Species, y=Abundance)) + \n",
    "geom_bar(stat=\"identity\", position=\"fill\", aes(fill = Genus)) +\n",
    "scale_fill_manual(values=c(\"#56B4E9\",\"#CBD588\",\"#5F7FC7\", \"orange\",\"#DA5724\",\"#CD9BCD\",\n",
    "                           \"gray80\", \"#AD6F3B\", \"#673770\",\"#D14285\", \"#652926\",\"#8569D5\", \n",
    "                           \"#5E738F\",\"#D1A33D\", \"#8A7C64\",\"lightsalmon\",\"aquamarine4\",\n",
    "                           \"lightblue4\", \"lightpink\", \"ivory4\",\"royalblue4\", \"darkorchid\", \n",
    "                           \"palevioletred1\", \"#56B4E9\",\"#CBD588\",\"yellow2\",\"#5F7FC7\", \"orange\",\"#DA5724\",\n",
    "                           \"#CD9BCD\", \"gray80\",\n",
    "                           \"#AD6F3B\", \"#673770\",\"#D14285\", \"#652926\",\"#8569D5\", \"#5E738F\",\n",
    "                          \"#56B4E9\",\"#CBD588\",\"#5F7FC7\", \"orange\",\"#DA5724\",\"#CD9BCD\")) +\n",
    "guides(fill = guide_legend(keywidth = 0.3, , keyheight =.70, ncol=1)) +\n",
    "theme_classic() +\n",
    "theme(legend.text =element_text(size=5)) +\n",
    "theme(legend.title =element_text(size=6)) +\n",
    "theme(axis.title.x = element_text(size = 8)) +\n",
    "theme(axis.title.y = element_text(size = 8)) +\n",
    "theme(axis.text.x = element_text(size =6)) +\n",
    "theme(axis.text.y = element_text(size =6)) +\n",
    "theme(strip.text.x = element_text(size =5)) +\n",
    " \n",
    "ylab(\"Relative abundance\")\n",
    "\n",
    "bar_neg_fill"
   ]
  },
  {
   "cell_type": "code",
   "execution_count": null,
   "metadata": {
    "scrolled": false
   },
   "outputs": [],
   "source": [
    "sup1 = ggarrange(bar_neg_fill, bar_neg,\n",
    "                  common.legend = TRUE, legend = \"right\",\n",
    "                labels = c(\"A\", \"B\"), font.label = list(size = 9) \n",
    "               )\n",
    "sup1"
   ]
  },
  {
   "cell_type": "code",
   "execution_count": null,
   "metadata": {},
   "outputs": [],
   "source": [
    "#save plot\n",
    "ggsave(\"microbiome/Figures/Sup1.png\",\n",
    "       sup1, width = 7, height = 5, units = \"in\", dpi=300)"
   ]
  },
  {
   "cell_type": "code",
   "execution_count": null,
   "metadata": {
    "button": false,
    "new_sheet": false,
    "run_control": {
     "read_only": false
    }
   },
   "outputs": [],
   "source": [
    "#make bar graph without negtive \n",
    "bar_species = ggplot(subset(ps_sum_genus_all, Abundance > 0.05 & Genotype!=\"NaN\"), \n",
    "       aes(x = Genotype, y=Abundance)) + \n",
    "geom_bar(stat=\"identity\", position=\"fill\", aes(fill = Genus)) +\n",
    "scale_fill_manual(values=c(\"#56B4E9\",\"#CBD588\",\"#5F7FC7\", \"orange\",\"#DA5724\",\"#CD9BCD\",\n",
    "                           \"gray80\", \"#AD6F3B\", \"#673770\",\"#D14285\", \"#652926\",\"#8569D5\", \n",
    "                           \"#5E738F\",\"#D1A33D\", \"#8A7C64\",\"lightsalmon\",\"aquamarine4\",\n",
    "                           \"lightblue4\", \"lightpink\", \"ivory4\",\"royalblue4\", \"darkorchid\", \n",
    "                           \"palevioletred1\", \"#56B4E9\",\"#CBD588\",\"yellow2\",\"#5F7FC7\", \"orange\",\"#DA5724\",\n",
    "                           \"#CD9BCD\", \"gray80\",\n",
    "                           \"#AD6F3B\", \"#673770\",\"#D14285\", \"#652926\",\"#8569D5\", \"#5E738F\",\n",
    "                          \"#56B4E9\",\"#CBD588\",\"#5F7FC7\", \"orange\",\"#DA5724\",\"#CD9BCD\")) +\n",
    "facet_grid(Treatment~Host_Species, scales=\"free\") +\n",
    "theme_classic() +\n",
    "ylab(\"Relative Abundance > 0.05\") + \n",
    "guides(fill = guide_legend(keywidth = 0.3, , keyheight =.40, ncol=1)) +\n",
    "theme(legend.text =element_text(size=4)) +\n",
    "theme(legend.title =element_text(size=6)) +\n",
    "theme(axis.title.x = element_text(size = 8)) +\n",
    "theme(axis.title.y = element_text(size = 8)) +\n",
    "theme(axis.text.x = element_text(size =4)) +\n",
    "theme(axis.text.y = element_text(size =5)) +\n",
    "theme(strip.text.x = element_text(face = \"italic\", size =7)) +\n",
    "theme(strip.text.y = element_text(size =7)) +\n",
    "theme(axis.text.x = element_text(angle = 90, hjust = 1))\n",
    "bar_species"
   ]
  },
  {
   "cell_type": "code",
   "execution_count": null,
   "metadata": {
    "button": false,
    "new_sheet": false,
    "run_control": {
     "read_only": false
    },
    "scrolled": false
   },
   "outputs": [],
   "source": [
    "#boxplot of Shannon diversity \n",
    "alpha_geno= ggplot(subset(map, Host_Species == \"palmata\" | Host_Species== \"cervicornis\"),\n",
    "       aes(x=Genotype, y= Shannon, fill=Host_Species)) +\n",
    "scale_fill_manual(values=c(\"#56B4E9\", \"#E69F00\")) +\n",
    "geom_boxplot() +\n",
    "geom_point(aes(shape= Treatment),position = position_jitterdodge(), alpha=0.5) +\n",
    "theme_bw() +\n",
    "theme(axis.text.x = element_text(angle = 90, hjust = 1)) +\n",
    "theme(legend.text =element_text(size=4)) +\n",
    "theme(legend.title = element_text(size=5)) +\n",
    "theme(axis.title.x = element_text(size = 7)) +\n",
    "theme(axis.title.y = element_text(size = 7)) +\n",
    "theme(axis.text.x = element_text(size =5)) +\n",
    "theme(axis.text.y = element_text(size =5)) \n",
    "#theme(legend.position=\"top\", legend.box = \"vertical\")\n",
    "\n",
    "alpha_geno\n",
    "\n"
   ]
  },
  {
   "cell_type": "code",
   "execution_count": null,
   "metadata": {
    "button": false,
    "new_sheet": false,
    "run_control": {
     "read_only": false
    }
   },
   "outputs": [],
   "source": [
    "#boxplot of Evenness \n",
    "alpha_even= ggplot(subset(map, Host_Species == \"palmata\" | Host_Species== \"cervicornis\"),\n",
    "       aes(x=Genotype, y= Evenness, fill=Host_Species)) +\n",
    "scale_fill_manual(values=c(\"#56B4E9\", \"#E69F00\")) +\n",
    "geom_boxplot() +\n",
    "geom_point(aes(shape= Treatment),position = position_jitterdodge(), alpha=0.5) +\n",
    "theme_bw() +\n",
    "theme(axis.text.x = element_text(angle = 90, hjust = 1)) +\n",
    "theme(legend.text =element_text(size=4)) +\n",
    "theme(legend.title = element_text(size=5)) +\n",
    "theme(axis.title.x = element_text(size = 7)) +\n",
    "theme(axis.title.y = element_text(size = 7)) +\n",
    "theme(axis.text.x = element_text(size =5)) +\n",
    "theme(axis.text.y = element_text(size =5)) \n",
    "#theme(legend.position=\"none\")\n",
    "\n",
    "alpha_even"
   ]
  },
  {
   "cell_type": "code",
   "execution_count": null,
   "metadata": {
    "button": false,
    "new_sheet": false,
    "run_control": {
     "read_only": false
    }
   },
   "outputs": [],
   "source": [
    "fig1 = plot_grid(alpha_geno, PCA_pal_cer,alpha_even, bar_species,\n",
    "              labels = c(\"A\", \"C\", \"B\", \"D\"), ncol = 2, align=\"none\",\n",
    "                label_size=12)\n",
    " fig1                              "
   ]
  },
  {
   "cell_type": "code",
   "execution_count": null,
   "metadata": {
    "button": false,
    "new_sheet": false,
    "run_control": {
     "read_only": false
    }
   },
   "outputs": [],
   "source": [
    "#save figure\n",
    "ggsave(\"microbiome/Figures/Fig1.png\"\n",
    "       ,fig1, width = 7, height = 5, units = \"in\", dpi=300)"
   ]
  },
  {
   "cell_type": "code",
   "execution_count": null,
   "metadata": {
    "button": false,
    "new_sheet": false,
    "run_control": {
     "read_only": false
    }
   },
   "outputs": [],
   "source": [
    "#ordinate\n",
    "psr_cer_clr.ord <- ordinate(ps_cer_clr, \"RDA\",  \"euclidian\")\n",
    "\n",
    "#plot ordinations\n",
    "cbPalette <- c( \"#009E73\",\"#D55E00\",\"#696969\")\n",
    "cer_pca_eli= plot_ordination(ps_cer_clr, psr_cer_clr.ord, \n",
    "                                type=\"samples\",\n",
    "                                color=\"Outcome\",\n",
    "                                label=\"Genotype\",\n",
    "                              \n",
    "                                axes = c(2, 3)) +\n",
    "geom_point(size=1) +\n",
    "stat_ellipse(geom = \"polygon\", type=\"norm\", alpha=0.2, aes(color=Outcome, fill=Outcome)) + \n",
    "theme_classic() +\n",
    "scale_fill_manual(values = cbPalette) +\n",
    "scale_color_manual(values = cbPalette) +\n",
    "theme(legend.text =element_text(size=5)) +\n",
    "theme(legend.title = element_text(size=6)) +\n",
    "theme(axis.title.x = element_text(size = 7)) +\n",
    "theme(axis.title.y = element_text(size = 7)) +\n",
    "theme(axis.text.x = element_text(size =5)) +\n",
    "theme(axis.text.y = element_text(size =5)) \n",
    "\n",
    "cer_pca_eli"
   ]
  },
  {
   "cell_type": "code",
   "execution_count": null,
   "metadata": {
    "button": false,
    "new_sheet": false,
    "run_control": {
     "read_only": false
    }
   },
   "outputs": [],
   "source": [
    "# compute dissimilarity indices\n",
    "dis_cer <- vegdist(otu_table(ps_cer_clr), method =\"euclidean\")\n",
    "# PERMDISP2 procedure for the analysis of multivariate homogeneity of group dispersions (variances).\n",
    "mod_cer <- betadisper(dis_cer, sample_data(ps_cer_clr)$Outcome)\n",
    "mod_cer\n",
    "mod_dist_cer= as.data.frame(mod_cer$distances)\n",
    "dim(mod_dist_cer)\n",
    "#head(mod_dist)\n",
    "#dim(sample_data(ps_cer_clr))\n",
    "#head(sample_data(ps_cer_clr))\n",
    "mod_dist_df_cer=cbind(sample_data(ps_cer_clr), mod_dist_cer) \n",
    "head(mod_dist_df_cer)"
   ]
  },
  {
   "cell_type": "code",
   "execution_count": null,
   "metadata": {
    "button": false,
    "new_sheet": false,
    "run_control": {
     "read_only": false
    }
   },
   "outputs": [],
   "source": [
    "#plot variance \n",
    "cbPalette <- c( \"#009E73\",\"#696969\", \"#D55E00\")\n",
    "mod_dist_df_cer$Outcome <- factor(mod_dist_df_cer$Outcome, levels = c(\"Control\",\n",
    "                                                         \"VisuallyUnaffected\",\"Diseased\"))\n",
    "\n",
    "\n",
    "\n",
    "cer_box= ggplot(mod_dist_df_cer,\n",
    "       aes(x=Outcome, y=mod_cer$distances)) +\n",
    "geom_boxplot(aes(color=Outcome)) +\n",
    "scale_color_manual(values = cbPalette) +\n",
    "theme_linedraw() +\n",
    "facet_grid(Host_Species~.) +\n",
    "theme_classic() +\n",
    "ylab(\"Distance to Centroid\") +\n",
    "theme(legend.text =element_text(size=5)) +\n",
    "theme(legend.title = element_text(size=6)) +\n",
    "theme(axis.title.x = element_text(size = 7)) +\n",
    "theme(axis.title.y = element_text(size = 7)) +\n",
    "theme(axis.text.x = element_text(size =5)) +\n",
    "theme(axis.text.y = element_text(size =5)) \n",
    "\n",
    "cer_box"
   ]
  },
  {
   "cell_type": "code",
   "execution_count": null,
   "metadata": {
    "button": false,
    "new_sheet": false,
    "run_control": {
     "read_only": false
    }
   },
   "outputs": [],
   "source": [
    "psr_pal_clr.ord <- ordinate(ps_pal_clr, \"RDA\",  \"euclidian\")"
   ]
  },
  {
   "cell_type": "code",
   "execution_count": null,
   "metadata": {
    "button": false,
    "new_sheet": false,
    "run_control": {
     "read_only": false
    }
   },
   "outputs": [],
   "source": [
    "cbPalette <- c( \"#009E73\",\"#D55E00\",\"#696969\")\n",
    "pal_pca_eli= plot_ordination(ps_pal_clr, psr_pal_clr.ord, \n",
    "                                type=\"samples\",\n",
    "                                color=\"Outcome\",\n",
    "                             axes = c(1, 2),\n",
    "                            label=\"Genotype\") +\n",
    "geom_point(size=1) +\n",
    "stat_ellipse(geom = \"polygon\", type=\"norm\", alpha=0.2, aes(color=Outcome, fill=Outcome)) + \n",
    "theme_classic() +\n",
    "scale_fill_manual(values = cbPalette) +\n",
    "scale_color_manual(values = cbPalette) +\n",
    "theme(legend.text =element_text(size=5)) +\n",
    "theme(legend.title = element_text(size=6)) +\n",
    "theme(axis.title.x = element_text(size = 7)) +\n",
    "theme(axis.title.y = element_text(size = 7)) +\n",
    "theme(axis.text.x = element_text(size =5)) +\n",
    "theme(axis.text.y = element_text(size =5)) \n",
    "\n",
    "pal_pca_eli\n"
   ]
  },
  {
   "cell_type": "code",
   "execution_count": null,
   "metadata": {
    "button": false,
    "new_sheet": false,
    "run_control": {
     "read_only": false
    }
   },
   "outputs": [],
   "source": [
    "dis <- vegdist(otu_table(ps_pal_clr), method =\"euclidean\")\n",
    "# PERMDISP2 procedure for the analysis of multivariate homogeneity of group dispersions (variances).\n",
    "mod <- betadisper(dis, sample_data(ps_pal_clr)$Outcome)\n",
    "\n",
    "mod_dist= as.data.frame(mod$distances)\n",
    "#dim(mod_dist)\n",
    "#head(mod_dist)\n",
    "#dim(sample_data(ps_cer_clr))\n",
    "#head(sample_data(ps_cer_clr))\n",
    "mod_dist_df=cbind(sample_data(ps_pal_clr), mod_dist) \n"
   ]
  },
  {
   "cell_type": "code",
   "execution_count": null,
   "metadata": {
    "button": false,
    "new_sheet": false,
    "run_control": {
     "read_only": false
    }
   },
   "outputs": [],
   "source": [
    "cbPalette <- c( \"#009E73\",\"#696969\", \"#D55E00\")\n",
    "mod_dist_df$Outcome <- factor(mod_dist_df$Outcome, levels = c(\"Control\",\n",
    "                                                         \"VisuallyUnaffected\",\"Diseased\"))\n",
    "\n",
    "\n",
    "\n",
    "pal_box = ggplot(mod_dist_df,\n",
    "       aes(x=Outcome, y=mod$distances)) +\n",
    "geom_boxplot(aes(color=Outcome)) +\n",
    "scale_color_manual(values = cbPalette) +\n",
    "theme_linedraw() +\n",
    "facet_grid(Host_Species~.) +\n",
    "theme_classic() +\n",
    "ylab(\"Distance to Centroid\") +\n",
    "theme(legend.text =element_text(size=5)) +\n",
    "theme(legend.title = element_text(size=6)) +\n",
    "theme(axis.title.x = element_text(size = 7)) +\n",
    "theme(axis.title.y = element_text(size = 7)) +\n",
    "theme(axis.text.x = element_text(size =5)) +\n",
    "theme(axis.text.y = element_text(size =5)) \n",
    "\n",
    "pal_box"
   ]
  },
  {
   "cell_type": "code",
   "execution_count": null,
   "metadata": {
    "button": false,
    "new_sheet": false,
    "run_control": {
     "read_only": false
    }
   },
   "outputs": [],
   "source": [
    "fig2 = ggarrange(cer_pca_eli, cer_box, pal_pca_eli, pal_box,\n",
    "                 ncol = 2, nrow=2,\n",
    "                  common.legend = TRUE, legend = \"top\",\n",
    "                labels = c(\"A\", \"B\", \"C\", \"D\"), font.label = list(size = 9)\n",
    "               )\n",
    "fig2                             "
   ]
  },
  {
   "cell_type": "code",
   "execution_count": null,
   "metadata": {
    "button": false,
    "new_sheet": false,
    "run_control": {
     "read_only": false
    }
   },
   "outputs": [],
   "source": [
    "ggsave(\"microbiome/Figures/Fig2.png\"\n",
    "       ,fig2, width = 5, height = 5, units = \"in\", dpi = 300)"
   ]
  },
  {
   "cell_type": "code",
   "execution_count": null,
   "metadata": {},
   "outputs": [],
   "source": [
    "library(RColorBrewer)\n",
    "colorpal <-  c(\"#CBD588\",\"darkgreen\", \"orange\",\"#DA5724\",\"#CD9BCD\", \n",
    "\"#AD6F3B\",\"#D14285\", \"#652926\",\"#8569D5\", \"#5E738F\",\"#D1A33D\", \"#8A7C64\",\"lightsalmon\",\n",
    "    \"aquamarine4\", \n",
    "    \"darkorchid\", \"palevioletred1\",\"orange\",\"#DA5724\",\"#CD9BCD\", \"gray80\")\n",
    "\n",
    "\n",
    "\n",
    "\n",
    "cer_geno_ord= plot_ordination(ps_cer_clr, psr_cer_clr.ord, type=\"sample\", color=\"Genotype\",\n",
    "                shape=\"Treatment\", label = \"Nursery\"\n",
    "               ) + theme_bw() +\n",
    "\n",
    "\n",
    "\n",
    "theme_classic() +\n",
    "scale_fill_manual(values = colorpal) +\n",
    "scale_color_manual(values = colorpal) +\n",
    "theme(legend.text =element_text(size=5)) +\n",
    "theme(legend.title = element_text(size=6)) +\n",
    "theme(axis.title.x = element_text(size = 7)) +\n",
    "theme(axis.title.y = element_text(size = 7)) +\n",
    "theme(axis.text.x = element_text(size =5)) +\n",
    "theme(axis.text.y = element_text(size =5)) \n",
    "\n",
    "cer_geno_ord\n",
    "\n",
    "pal_geno_ord=plot_ordination(ps_pal_clr, psr_pal_clr.ord, \n",
    "                             type=\"sample\", color=\"Genotype\",\n",
    "                shape=\"Treatment\", label = \"Nursery\"\n",
    "               ) + theme_bw() +\n",
    "\n",
    "\n",
    "\n",
    "theme_classic() +\n",
    "scale_fill_manual(values = colorpal) +\n",
    "scale_color_manual(values = colorpal) +\n",
    "theme(legend.text =element_text(size=5)) +\n",
    "theme(legend.title = element_text(size=6)) +\n",
    "theme(axis.title.x = element_text(size = 7)) +\n",
    "theme(axis.title.y = element_text(size = 7)) +\n",
    "theme(axis.text.x = element_text(size =5)) +\n",
    "theme(axis.text.y = element_text(size =5)) \n",
    "\n",
    "pal_geno_ord"
   ]
  },
  {
   "cell_type": "code",
   "execution_count": null,
   "metadata": {},
   "outputs": [],
   "source": [
    "Sup2 =ggarrange(cer_geno_ord, pal_geno_ord,\n",
    "                 ncol = 2, nrow=1,\n",
    "                  \n",
    "                labels = c(\"A\", \"B\"), font.label = list(size = 9)\n",
    "               )\n",
    "Sup2"
   ]
  },
  {
   "cell_type": "code",
   "execution_count": null,
   "metadata": {},
   "outputs": [],
   "source": [
    "ggsave(\"Figures/supplementalFig2.png\"\n",
    "       ,Sup2, width = 6, height = 4, units = \"in\", dpi = 300)"
   ]
  },
  {
   "cell_type": "code",
   "execution_count": null,
   "metadata": {
    "button": false,
    "new_sheet": false,
    "run_control": {
     "read_only": false
    }
   },
   "outputs": [],
   "source": [
    "#select ASVs that were significant for outcome from ANCOM results\n",
    "\n",
    "GoodTaxa = c(\n",
    "\"e2829560ad1e796bebb56d909c7fb12d\",\n",
    "\"5c518d771ed47c631781c4e204c796b0\",\n",
    "\"fa87a3ed888b44bab9d77e04cbb99665\")\n",
    "allTaxa = taxa_names(psr_pal)\n",
    "allTaxa <- allTaxa[(allTaxa %in% GoodTaxa)]\n",
    "sig_pal = prune_taxa(allTaxa, psr_pal)\n",
    "sig_pal\n",
    "\n",
    "sum_genus_sig_pal  <- sig_pal  %>%\n",
    "  tax_glom(taxrank = \"Family\") %>%                     # agglomerate at family level\n",
    "  psmelt() \n",
    "\n",
    "\n",
    "GoodTaxa = c(\n",
    "\"7eb68c2ff12bb8a0a46d036c37f8f26e\",\n",
    "\"fa87a3ed888b44bab9d77e04cbb99665\")\n",
    "allTaxa = taxa_names(psr_cer)\n",
    "allTaxa <- allTaxa[(allTaxa %in% GoodTaxa)]\n",
    "sig_cer = prune_taxa(allTaxa, psr_cer)\n",
    "sig_cer\n",
    "\n",
    "sum_genus_sig_cer  <- sig_cer  %>%\n",
    "  tax_glom(taxrank = \"Genus\") %>%                     # agglomerate at genus level\n",
    "  psmelt() %>%                                         # Melt to long format\n",
    "  \n",
    "head(sum_genus_sig_cer)"
   ]
  },
  {
   "cell_type": "code",
   "execution_count": null,
   "metadata": {
    "button": false,
    "new_sheet": false,
    "run_control": {
     "read_only": false
    }
   },
   "outputs": [],
   "source": [
    "sum_genus_sig_cer$Outcome <- factor(sum_genus_sig_cer$Outcome, levels = c(\"Control\",\n",
    "                                                         \"VisuallyUnaffected\",\"Diseased\"))\n",
    "\n",
    "box_sig_cer = ggplot(subset(sum_genus_sig_cer, Abundance > 0.0),\n",
    "       aes(x=Outcome, y= Abundance, color =Family)) +\n",
    "geom_boxplot() +\n",
    "geom_point(position = position_jitterdodge(), alpha=0.5, size=1) +\n",
    "scale_color_manual(values=c(\"#5F7FC7\",\"#696969\")) +\n",
    "scale_y_continuous(trans='log10') +\n",
    "theme_bw() +\n",
    "#theme(axis.text.x = element_text(angle = 90, hjust = 1)) +\n",
    "theme(legend.text =element_text(size=5)) +\n",
    "theme(legend.title = element_text(size=6)) +\n",
    "theme(axis.title.x = element_text(size = 7)) +\n",
    "theme(axis.title.y = element_text(size = 7)) +\n",
    "theme(axis.text.x = element_text(size =5)) +\n",
    "theme(axis.text.y = element_text(size =5)) +\n",
    "theme(legend.position=\"none\") +\n",
    "ylab(\"Relative abundance\")\n",
    "\n",
    "box_sig_cer"
   ]
  },
  {
   "cell_type": "code",
   "execution_count": null,
   "metadata": {
    "button": false,
    "new_sheet": false,
    "run_control": {
     "read_only": false
    }
   },
   "outputs": [],
   "source": [
    "sum_genus_sig_pal$Outcome <- factor(sum_genus_sig_pal$Outcome, levels = c(\"Control\",\n",
    "                                                         \"VisuallyUnaffected\",\"Diseased\"))\n",
    "\n",
    "\n",
    "box_sig_pal =ggplot(subset(sum_genus_sig_pal, Abundance > 0),\n",
    "       aes(x=Outcome, y= Abundance, color =Family)) +\n",
    "geom_boxplot() +\n",
    "geom_point(position = position_jitterdodge(), alpha=0.5, size=1) +\n",
    "scale_color_manual(values=c(\"#8569D5\",\"#CBD588\",\"#5F7FC7\", \"orange\",\"#DA5724\",\n",
    "                  \"#CD9BCD\", \"gray80\", \"#AD6F3B\", \"#673770\",\"#D14285\",\n",
    "                  \"#652926\")) +\n",
    "scale_y_continuous(trans='log10') +\n",
    "theme_bw() +\n",
    "#theme(axis.text.x = element_text(angle = 90, hjust = 1))\n",
    "theme(legend.text =element_text(size=5)) +\n",
    "theme(legend.title = element_text(size=6)) +\n",
    "theme(axis.title.x = element_text(size = 7)) +\n",
    "theme(axis.title.y = element_text(size = 7)) +\n",
    "theme(axis.text.x = element_text(size =5)) +\n",
    "theme(axis.text.y = element_text(size =5)) +\n",
    "theme(legend.position=\"none\") +\n",
    "ylab(\"Relative abundance\")\n",
    "box_sig_pal"
   ]
  },
  {
   "cell_type": "code",
   "execution_count": null,
   "metadata": {
    "button": false,
    "new_sheet": false,
    "run_control": {
     "read_only": false
    }
   },
   "outputs": [],
   "source": [
    "ps_sig =merge_phyloseq(sig_cer, sig_pal)\n",
    "ps_sig\n",
    "\n",
    "\n",
    "sum_ps_sig  <- ps_sig  %>%\n",
    "  tax_glom(taxrank = \"Family\") %>%                     # agglomerate at genus level\n",
    "  psmelt() %>%                                         # Melt to long format\n",
    "  arrange(Family) \n"
   ]
  },
  {
   "cell_type": "code",
   "execution_count": null,
   "metadata": {
    "button": false,
    "new_sheet": false,
    "run_control": {
     "read_only": false
    }
   },
   "outputs": [],
   "source": [
    "sum_ps_sig $Outcome <- factor(sum_ps_sig $Outcome, levels = c(\"Control\",\n",
    "                                                         \"VisuallyUnaffected\",\"Diseased\"))\n",
    "bar_sig_bac =ggplot(subset(sum_ps_sig, Abundance < 0.04), aes(x =Genotype_replicate, y=Abundance)) + \n",
    "geom_bar(stat=\"identity\", aes(fill = Family)) +\n",
    "scale_fill_manual(values=c(\"#8569D5\",\"#CBD588\", \"#5F7FC7\",\"#696969\", \"orange\",\"#DA5724\",\"#CD9BCD\", \"gray80\", \"#AD6F3B\", \"#673770\",\"#D14285\", \"#652926\",\"#8569D5\", \"#5E738F\",\"#D1A33D\", \"#8A7C64\",\"lightsalmon\",\"aquamarine4\", \"khaki1\", \"lightblue4\", \"lightpink\", \"ivory4\", \"yellow2\",\"royalblue4\", \"darkorchid\", \"palevioletred1\", \"#CBD588\",\"#5F7FC7\", \"orange\",\"#DA5724\",\"#CD9BCD\", \"gray80\")) +\n",
    "facet_grid(.~Outcome, scales=\"free\") +\n",
    "theme_classic() +\n",
    "guides(fill = guide_legend(keywidth = 0.3, , keyheight =.40)) +\n",
    "theme(axis.text.x = element_text(angle = 90, hjust = 1)) +\n",
    "theme(legend.position=\"top\") +\n",
    "theme(legend.text =element_text(size=4)) +\n",
    "theme(legend.title =element_text(size=6)) +\n",
    "theme(axis.title.x = element_text(size = 6)) +\n",
    "theme(axis.title.y = element_text(size = 5.5)) +\n",
    "theme(axis.text.x = element_text(size =3.5)) +\n",
    "theme(axis.text.y = element_text(size =5)) +\n",
    "theme(strip.text.x = element_text(size =5)) +\n",
    "xlab(\"Genotype\") +\n",
    "ylab(\"Relative abundance\")\n",
    "\n",
    "bar_sig_bac"
   ]
  },
  {
   "cell_type": "code",
   "execution_count": null,
   "metadata": {
    "button": false,
    "new_sheet": false,
    "run_control": {
     "read_only": false
    }
   },
   "outputs": [],
   "source": [
    "Fig3 =ggdraw() +\n",
    "  draw_plot(box_sig_cer, x = 0, y = .5, width = .5, height = .5) +\n",
    "  draw_plot(box_sig_pal, x = .5, y = .5, width = .5, height = .5) +\n",
    "  draw_plot(bar_sig_bac, x = 0, y = 0, width = 1, height = 0.5) +\n",
    "  draw_plot_label(label = c(\"A\", \"B\", \"C\"), size = 10,\n",
    "                  x = c(0, 0.5, 0), y = c(1, 1, 0.5)) \n",
    "Fig3"
   ]
  },
  {
   "cell_type": "code",
   "execution_count": null,
   "metadata": {
    "button": false,
    "new_sheet": false,
    "run_control": {
     "read_only": false
    }
   },
   "outputs": [],
   "source": [
    "ggsave(\"microbiome/Figures/Fig3.png\"\n",
    "       ,Fig3, width = 5, height = 4, units = \"in\", dpi=300)"
   ]
  },
  {
   "cell_type": "code",
   "execution_count": null,
   "metadata": {},
   "outputs": [],
   "source": [
    "ggplot(subset(sum_ps_sig, Abundance < 0.04), aes(x =Genotype_replicate, y=Abundance)) + \n",
    "geom_bar(stat=\"identity\", aes(fill = Family)) +\n",
    "scale_fill_manual(values=c(\"#8569D5\",\"#CBD588\", \"#5F7FC7\",\"#696969\", \"orange\",\"#DA5724\",\"#CD9BCD\", \"gray80\", \"#AD6F3B\", \"#673770\",\"#D14285\", \"#652926\",\"#8569D5\", \"#5E738F\",\"#D1A33D\", \"#8A7C64\",\"lightsalmon\",\"aquamarine4\", \"khaki1\", \"lightblue4\", \"lightpink\", \"ivory4\", \"yellow2\",\"royalblue4\", \"darkorchid\", \"palevioletred1\", \"#CBD588\",\"#5F7FC7\", \"orange\",\"#DA5724\",\"#CD9BCD\", \"gray80\")) +\n",
    "facet_grid(Outcome~Susceptibility, scale=\"free_x\") +\n",
    "theme_classic() +\n",
    "guides(fill = guide_legend(keywidth = 0.3, , keyheight =.40)) +\n",
    "theme(axis.text.x = element_text(angle = 90, hjust = 1)) +\n",
    "theme(legend.position=\"top\") +\n",
    "theme(legend.text =element_text(size=4)) +\n",
    "theme(legend.title =element_text(size=6)) +\n",
    "theme(axis.title.x = element_text(size = 6)) +\n",
    "theme(axis.title.y = element_text(size = 5.5)) +\n",
    "theme(axis.text.x = element_text(size =3.5)) +\n",
    "theme(axis.text.y = element_text(size =5)) +\n",
    "theme(strip.text.x = element_text(size =5)) "
   ]
  },
  {
   "cell_type": "code",
   "execution_count": null,
   "metadata": {
    "button": false,
    "new_sheet": false,
    "run_control": {
     "read_only": false
    }
   },
   "outputs": [],
   "source": [
    "#select ASVs that were significant for genotype from ANCOM results\n",
    "GoodTaxa = c(\n",
    "\"3f8018e35043db82841f695939b95ece\",\n",
    "\"87624cf95e61dd0ce58bab24686f1eb4\",\n",
    "\"c6af4b65b2f25b905461f80f13b89edd\",\n",
    "\"7ebeae7195a9f372afdc9d94744cc349\",\n",
    "\"5b79cf6d5a5a9bf0bb866aed449eff44\")\n",
    "allTaxa = taxa_names(psr_cer)\n",
    "allTaxa <- allTaxa[(allTaxa %in% GoodTaxa)]\n",
    "sig_cer_geno = prune_taxa(allTaxa, psr_cer)\n",
    "sig_cer_geno\n",
    "\n",
    "\n",
    "\n",
    "\n",
    "\n",
    "sum_sig_cer_geno  <- sig_cer_geno  %>%\n",
    "  tax_glom(taxrank = \"Family\") %>%                     # agglomerate at genus level\n",
    "  psmelt() %>%                                         # Melt to long format\n",
    "  arrange(Family) \n",
    "\n",
    "GoodTaxa = c(\n",
    "\n",
    "\"8415141e03996c7309d7d1fd8aee6967\",\n",
    "\"7253c0f3989180f5b68f83c04ecfbda2\",\n",
    "\"7ebeae7195a9f372afdc9d94744cc349\")\n",
    "allTaxa = taxa_names(psr_pal)\n",
    "allTaxa <- allTaxa[(allTaxa %in% GoodTaxa)]\n",
    "sig_pal_geno = prune_taxa(allTaxa, psr_pal)\n",
    "sig_pal_geno\n",
    "\n",
    "sum_sig_pal_geno <- sig_pal_geno  %>%\n",
    "  tax_glom(taxrank = \"Family\") %>%                     # agglomerate at genus level\n",
    "  psmelt() %>%                                         # Melt to long format\n",
    "  arrange(Family) \n"
   ]
  },
  {
   "cell_type": "code",
   "execution_count": null,
   "metadata": {
    "button": false,
    "new_sheet": false,
    "run_control": {
     "read_only": false
    }
   },
   "outputs": [],
   "source": [
    "sum_sig_cer_geno$Susceptibility <- factor(sum_sig_cer_geno$Susceptibility, levels = c(\"Low\",\n",
    "                                                         \"Mid\",\"High\"))\n",
    "\n",
    "bar_cer_geno =ggplot(subset(sum_sig_cer_geno, Abundance > 0.0), aes(x =Genotype, y=Abundance)) + \n",
    "geom_bar(stat=\"identity\", aes(fill = Family)) +\n",
    "scale_fill_manual(values=c(\"#CD9BCD\", \"grey\",\"#000080\",\"#D14285\", \"#652926\",\"#8569D5\", \n",
    "                           \"#5E738F\",\"#D1A33D\", \"#8A7C64\",\"lightsalmon\",\"aquamarine4\", \n",
    "                           \"khaki1\", \"lightblue4\", \"lightpink\", \"ivory4\", \"yellow2\",\n",
    "                           \"royalblue4\", \"darkorchid\", \"palevioletred1\", \"#CBD588\",\n",
    "                           \"#5F7FC7\", \"orange\",\"#DA5724\",\"#CD9BCD\", \"gray80\")) +\n",
    "theme_classic() +\n",
    "theme(axis.text.x = element_text(angle = 90, hjust = 1)) +\n",
    "theme(legend.text =element_text(size=4)) +\n",
    "theme(legend.title =element_text(size=6)) +\n",
    "theme(axis.title.x = element_text(size = 8)) +\n",
    "theme(axis.title.y = element_text(size = 8)) +\n",
    "theme(axis.text.x = element_text(size =4)) +\n",
    "theme(axis.text.y = element_text(size =5)) +\n",
    "theme(strip.text.x = element_text(size =5)) +\n",
    "guides(fill = guide_legend(keywidth = 0.2, , keyheight =.30)) +\n",
    "ylab(\"Relative abundance\")\n",
    "bar_cer_geno"
   ]
  },
  {
   "cell_type": "code",
   "execution_count": null,
   "metadata": {
    "button": false,
    "new_sheet": false,
    "run_control": {
     "read_only": false
    }
   },
   "outputs": [],
   "source": [
    "bar_pal_geno=ggplot(subset(sum_sig_pal_geno, Abundance > 0.0), aes(x = Genotype, y=Abundance)) + \n",
    "geom_bar(stat=\"identity\", aes(fill = Family)) +\n",
    "scale_fill_manual(values=c(\"#CD9BCD\",\"#000080\", \"orange\",\"#DA5724\",\"#CD9BCD\", \"gray80\", \"#AD6F3B\", \"#673770\",\"#D14285\", \"#652926\",\"#8569D5\", \"#5E738F\",\"#D1A33D\", \"#8A7C64\",\"lightsalmon\",\"aquamarine4\", \"khaki1\", \"lightblue4\", \"lightpink\", \"ivory4\", \"yellow2\",\"royalblue4\", \"darkorchid\", \"palevioletred1\", \"#CBD588\",\"#5F7FC7\", \"orange\",\"#DA5724\",\"#CD9BCD\", \"gray80\")) +\n",
    "theme_classic() +\n",
    "theme(axis.text.x = element_text(angle = 90, hjust = 1)) +\n",
    "theme(legend.text =element_text(size=4)) +\n",
    "theme(legend.title =element_text(size=6)) +\n",
    "theme(axis.title.x = element_text(size = 8)) +\n",
    "theme(axis.title.y = element_text(size = 8)) +\n",
    "theme(axis.text.x = element_text(size =4)) +\n",
    "theme(axis.text.y = element_text(size =5)) +\n",
    "theme(strip.text.x = element_text(size =5)) +\n",
    "guides(fill = guide_legend(keywidth = 0.2, , keyheight =.30)) +\n",
    "ylab(\"Relative abundance\")\n",
    "bar_pal_geno"
   ]
  },
  {
   "cell_type": "code",
   "execution_count": null,
   "metadata": {
    "button": false,
    "new_sheet": false,
    "run_control": {
     "read_only": false
    }
   },
   "outputs": [],
   "source": [
    "sup3 = ggarrange(bar_cer_geno, bar_pal_geno,\n",
    "                 ncol = 2,\n",
    "                  common.legend = TRUE, legend = \"top\",\n",
    "                labels = c(\"A\", \"B\"), font.label = list(size = 9) \n",
    "               )\n",
    "sup3 "
   ]
  },
  {
   "cell_type": "code",
   "execution_count": null,
   "metadata": {
    "button": false,
    "new_sheet": false,
    "run_control": {
     "read_only": false
    }
   },
   "outputs": [],
   "source": [
    "#save figure\n",
    "ggsave(\"microbiome/Figures/supplementalFig3.png\"\n",
    "       ,sup3, width = 4, height = 4, units = \"in\", dpi=300)"
   ]
  },
  {
   "cell_type": "code",
   "execution_count": null,
   "metadata": {},
   "outputs": [],
   "source": [
    "#subset data by categories \n",
    "ps_T_H_AC =subset_samples(ps_cer, Outcome==\"Control\")\n",
    "ps_T_H_AC\n",
    "\n",
    "ps_T_D_AC =subset_samples(ps_cer, Outcome==\"Diseased\")\n",
    "ps_T_D_AC\n",
    "\n",
    "ps_T_U_AC =subset_samples(ps_cer, Outcome==\"VisuallyUnaffected\")\n",
    "ps_T_U_AC\n",
    "\n",
    "\n",
    "ps_T_H_AP =subset_samples(ps_pal, Outcome==\"Control\")\n",
    "ps_T_H_AP\n",
    "\n",
    "ps_T_D_AP =subset_samples(ps_pal, Outcome==\"Diseased\")\n",
    "ps_T_D_AP\n",
    "\n",
    "ps_T_U_AP =subset_samples(ps_pal, Outcome==\"VisuallyUnaffected\")\n",
    "ps_T_U_AP\n",
    "\n",
    "\n",
    "ps_H_AC =subset_samples(ps_cer, Susceptibility==\"High\")\n",
    "ps_H_AC\n",
    "\n",
    "ps_M_AC =subset_samples(ps_cer, Susceptibility==\"Mid\")\n",
    "ps_M_AC\n",
    "\n",
    "\n",
    "ps_L_AC =subset_samples(ps_cer, Susceptibility==\"Low\")\n",
    "ps_L_AC\n"
   ]
  },
  {
   "cell_type": "code",
   "execution_count": null,
   "metadata": {},
   "outputs": [],
   "source": [
    "#Core microbiome analysis \n",
    "\n",
    "print(\"CER_disease\")\n",
    "core_ps_T_D_AC=core(ps_T_D_AC, detection = 0, prevalence = .99)\n",
    "core_ps_T_D_AC\n",
    "\n",
    "print(\"CER_CONTROL\")\n",
    "core_ps_T_H_AC=core(ps_T_H_AC, detection = 0, prevalence = .99)\n",
    "core_ps_T_H_AC\n",
    "\n",
    "print(\"CER_VISULALLYhealthy\")\n",
    "core_ps_T_U_AC=core(ps_T_U_AC, detection = 0, prevalence = .99)\n",
    "core_ps_T_U_AC\n",
    "\n",
    "print(\"Pal_disease\")\n",
    "core_ps_T_D_AP=core(ps_T_D_AP, detection = 0, prevalence = .99)\n",
    "core_ps_T_D_AP\n",
    "\n",
    "print(\"PAL_healthy\")\n",
    "core_ps_T_H_AP=core(ps_T_H_AP, detection = 0, prevalence = .99)\n",
    "core_ps_T_H_AP\n",
    "\n",
    "print(\"PAL_VISULALLYhealthy\")\n",
    "core_ps_T_U_AP=core(ps_T_U_AP, detection = 0, prevalence = .99)\n",
    "core_ps_T_U_AP\n",
    "\n",
    "\n",
    "\n",
    "print(\"ps_H_AC\")\n",
    "core_ps_H_AC=core(ps_H_AC, detection = 0, prevalence = .99)\n",
    "core_ps_H_AC\n",
    "\n",
    "print(\"ps_M_AC\")\n",
    "core_ps_M_AC=core(ps_M_AC, detection = 0, prevalence = .99)\n",
    "core_ps_M_AC\n",
    "\n",
    "print(\"ps_L_AC\")\n",
    "core_ps_L_AC=core(ps_L_AC, detection = 0, prevalence = .99)\n",
    "core_ps_L_AC\n"
   ]
  },
  {
   "cell_type": "code",
   "execution_count": null,
   "metadata": {},
   "outputs": [],
   "source": [
    "R.version"
   ]
  }
 ],
 "metadata": {
  "kernelspec": {
   "display_name": "R",
   "language": "R",
   "name": "ir"
  },
  "language_info": {
   "codemirror_mode": "r",
   "file_extension": ".r",
   "mimetype": "text/x-r-source",
   "name": "R",
   "pygments_lexer": "r",
   "version": "3.5.1"
  }
 },
 "nbformat": 4,
 "nbformat_minor": 2
}
